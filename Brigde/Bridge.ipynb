{
  "nbformat": 4,
  "nbformat_minor": 0,
  "metadata": {
    "colab": {
      "name": "Bridge.ipynb",
      "provenance": [],
      "collapsed_sections": []
    },
    "kernelspec": {
      "name": "python3",
      "display_name": "Python 3"
    }
  },
  "cells": [
    {
      "cell_type": "markdown",
      "metadata": {
        "id": "bRGCjhnFQck5"
      },
      "source": [
        "###1)\tEm um bar você pode ter vários tipos de refrigentes (coca-cola, fanta, sprite, etc.) e tamanhos (200ml, 300ml, 600ml,  etc). Criar classes para cada combinação possível aumentaria muito o número de classes. Utilize uma solução com o padrão Bridge.\n"
      ]
    },
    {
      "cell_type": "markdown",
      "metadata": {
        "id": "uZaZfiuxZYQh"
      },
      "source": [
        "###a)\tDescreva o modelo de classes da solução.\n",
        "Pensando no padrão Bridge, utilizei os tipos de **refrigerante** como **abstração**, e o **tamanho** como **implementação**.\n",
        "\n",
        "Onde cada refrigerante possui o método marca, e cada tamanho possui o método que retorna quantos ml e marca do refrigerante.\n",
        "\n",
        "Diminuindo a necessidade de N combinações entre diversos tipos de implementações e diversos tipos de classes.\n",
        "\n",
        "Abaixo segue a representação do modelo de classes:\n",
        "![Bridge_diagram.png](data:image/png;base64,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)"
      ]
    },
    {
      "cell_type": "markdown",
      "metadata": {
        "id": "FQehWn3DZQW7"
      },
      "source": [
        "###b)\tCrie a estrutura das classes em uma linguagem de programação:"
      ]
    },
    {
      "cell_type": "code",
      "metadata": {
        "id": "ZYHll_h2V2Zm"
      },
      "source": [
        "#Import do modulo que prove a estrutura de definição de classes abastratas no py\n",
        "from abc import ABCMeta, abstractmethod"
      ],
      "execution_count": null,
      "outputs": []
    },
    {
      "cell_type": "code",
      "metadata": {
        "id": "919uDMv9Kt_m"
      },
      "source": [
        "#Classe abstrata (Abstração)\n",
        "class Refrigerante(metaclass=ABCMeta):\n",
        "    #Definição do método abstrato\n",
        "    @abstractmethod\n",
        "    def marca(self):\n",
        "        pass"
      ],
      "execution_count": null,
      "outputs": []
    },
    {
      "cell_type": "code",
      "metadata": {
        "id": "u0HDCiqTBOej"
      },
      "source": [
        "####################################\n",
        "#Classes que herdam de Refrigerante#\n",
        "####################################\n",
        "\n",
        "class Coca_cola(Refrigerante):\n",
        "    def marca(self):\n",
        "        return \"Coca-Cola\"\n",
        "\n",
        "class Fanta(Refrigerante):\n",
        "    def marca(self):\n",
        "        return \"Fanta\"\n",
        "\n",
        "class Pepsi(Refrigerante):\n",
        "    def marca(self):\n",
        "        return \"Pepsi\"\n",
        "\n",
        "####################################\n",
        "#Classes que herdam de Refrigerante#\n",
        "####################################"
      ],
      "execution_count": null,
      "outputs": []
    },
    {
      "cell_type": "code",
      "metadata": {
        "id": "0zHGBgWNV0Y2"
      },
      "source": [
        "#Interface comum a todas as implementações (Implementação)\n",
        "class Tamanho(metaclass=ABCMeta):\n",
        "    #Definição do método abstrato\n",
        "    @abstractmethod\n",
        "    def mililitro_ml(self):\n",
        "        pass"
      ],
      "execution_count": null,
      "outputs": []
    },
    {
      "cell_type": "code",
      "metadata": {
        "id": "pQ8kgkIzBQap"
      },
      "source": [
        "\n",
        "###############################\n",
        "#Classes que herdam de Tamanho#\n",
        "###############################\n",
        "\n",
        "class ml_200(Tamanho):\n",
        "    def __init__(self, refri):\n",
        "        self._refri = refri\n",
        "\n",
        "    def mililitro_ml(self):\n",
        "        return f\"Refrigerante: 200 ml, Marca: {self._refri.marca()}\"\n",
        "\n",
        "class ml_300(Tamanho):\n",
        "    def __init__(self, refri):\n",
        "        self._refri = refri\n",
        "\n",
        "    def mililitro_ml(self):\n",
        "        return f\"Refrigerante: 300 ml, Marca: {self._refri.marca()}\"\n",
        "\n",
        "class ml_600(Tamanho):\n",
        "    def __init__(self, refri):\n",
        "        self._refri = refri\n",
        "\n",
        "    def mililitro_ml(self):\n",
        "        return f\"Refrigerante: 600 ml, Marca: {self._refri.marca()}\"\n",
        "        \n",
        "###############################\n",
        "#Classes que herdam de Tamanho#\n",
        "###############################"
      ],
      "execution_count": null,
      "outputs": []
    },
    {
      "cell_type": "code",
      "metadata": {
        "colab": {
          "base_uri": "https://localhost:8080/"
        },
        "id": "hwphYV8LkwaB",
        "outputId": "84879be3-c95e-4653-8254-a19055c43d2f"
      },
      "source": [
        "if __name__ == \"__main__\":\n",
        "    #Instancia dos objetos\n",
        "    coca  = Coca_cola()\n",
        "    fanta = Fanta()\n",
        "    pepsi = Pepsi()\n",
        "\n",
        "    #Call do tamanho, passando o obj\n",
        "    refri_200 = ml_200(coca)\n",
        "    #refri_200 = ml_200(fanta)\n",
        "    refri_300 = ml_300(pepsi)\n",
        "    #refri_300 = ml_300(coca)\n",
        "    refri_600 = ml_600(fanta)\n",
        "    #refri_300 = ml_600(pepsi)\n",
        "\n",
        "    print(refri_200.mililitro_ml())\n",
        "    print(refri_300.mililitro_ml())\n",
        "    print(refri_600.mililitro_ml())\n",
        "    "
      ],
      "execution_count": null,
      "outputs": [
        {
          "output_type": "stream",
          "text": [
            "Refrigerante: 200 ml, Marca: Coca-Cola\n",
            "Refrigerante: 300 ml, Marca: Pepsi\n",
            "Refrigerante: 600 ml, Marca: Fanta\n"
          ],
          "name": "stdout"
        }
      ]
    }
  ]
}