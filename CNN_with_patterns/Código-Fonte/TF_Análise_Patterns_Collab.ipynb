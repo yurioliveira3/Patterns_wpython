{
  "nbformat": 4,
  "nbformat_minor": 0,
  "metadata": {
    "colab": {
      "name": "TF_Análise_Patterns.ipynb",
      "provenance": [],
      "collapsed_sections": []
    },
    "kernelspec": {
      "name": "python3",
      "display_name": "Python 3"
    },
    "accelerator": "GPU"
  },
  "cells": [
    {
      "cell_type": "code",
      "metadata": {
        "id": "CVyzdq-gPnbN"
      },
      "source": [
        "!rm -rf *"
      ],
      "execution_count": null,
      "outputs": []
    },
    {
      "cell_type": "code",
      "metadata": {
        "id": "R3b0eV2nUoxD",
        "colab": {
          "base_uri": "https://localhost:8080/"
        },
        "outputId": "30662ac3-0602-4854-dedc-d338f54c1b86"
      },
      "source": [
        "# Baixa as imagens de entradas X.npy\n",
        "!gdown https://drive.google.com/uc?id=1oSRay8phFA91RJoGH0tMmj86LBovKj73\n",
        "\n",
        "# Baixa as saídas desejadas Y.npy\n",
        "!gdown https://drive.google.com/uc?id=1_BQLcsgcYYsubtv4M80BVm4BEknrTOr7"
      ],
      "execution_count": null,
      "outputs": [
        {
          "output_type": "stream",
          "text": [
            "Downloading...\n",
            "From: https://drive.google.com/uc?id=1oSRay8phFA91RJoGH0tMmj86LBovKj73\n",
            "To: /content/X.npy\n",
            "33.8MB [00:00, 92.8MB/s]\n",
            "Downloading...\n",
            "From: https://drive.google.com/uc?id=1_BQLcsgcYYsubtv4M80BVm4BEknrTOr7\n",
            "To: /content/Y.npy\n",
            "100% 165k/165k [00:00<00:00, 5.31MB/s]\n"
          ],
          "name": "stdout"
        }
      ]
    },
    {
      "cell_type": "code",
      "metadata": {
        "id": "aDwgSM-am8sy"
      },
      "source": [
        "import time\n",
        "import torch\n",
        "import numpy as np\n",
        "import torch.nn as nn\n",
        "import torch.optim as optim\n",
        "import torch.functional as F\n",
        "\n",
        "from typing     import List\n",
        "from struct     import unpack\n",
        "from random     import sample\n",
        "from datetime   import datetime\n",
        "from matplotlib import pyplot as plt\n",
        "from abc        import ABC,abstractmethod\n",
        "from string     import ascii_letters, digits"
      ],
      "execution_count": null,
      "outputs": []
    },
    {
      "cell_type": "markdown",
      "metadata": {
        "id": "lpQol8hzx-rk"
      },
      "source": [
        "TEMPLATE"
      ]
    },
    {
      "cell_type": "code",
      "metadata": {
        "id": "Vqhea6Ynrf4B"
      },
      "source": [
        "\"\"\"\n",
        "  @class public class ABSTemplate extends ABC\n",
        "  @brief Classe abstrata de template\n",
        "\"\"\"\n",
        "class ABSTemplate(ABC):\n",
        "  def templateMethod():\n",
        "    split_and_shuffle()\n",
        "    random_sample_model()\n",
        "    evaluate()    \n",
        "\n",
        "  \"\"\"\n",
        "\t  @brief Metodo abstrato que embaralha os pares de entradas e saídas\n",
        "\t  @param X - Entradas da rede\n",
        "    @param Y - Saidas esperadas da rede\n",
        "\t  @return tuple \n",
        "  \"\"\"\n",
        "  @abstractmethod\n",
        "  def split_and_shuffle(self, X, Y) -> tuple:\n",
        "    pass\n",
        "\n",
        "  \"\"\"\n",
        "\t  @brief Metodo abstrato para mostrar uma imagem aleatória dentre as samples\n",
        "\t  @param Xv - Entradas de validação da rede\n",
        "    @param Yv - Saidas de validação da rede\n",
        "    @param model - Modelo da rede neural\n",
        "\t  @return void\n",
        "  \"\"\"\n",
        "  @abstractmethod\n",
        "  def random_sample_model(self, Xv, Yv, model) -> None:\n",
        "    pass\n",
        "\n",
        "  \"\"\"\n",
        "\t  @brief Metodo abstrato que calcula a acurácia da rede para o par de \n",
        "    entradas e saídas desejadas da rede\n",
        "\t  @param x - Entrada desejada\n",
        "    @param y_hat - Saída desejada\n",
        "\t  @return float\n",
        "  \"\"\"\n",
        "  @abstractmethod\n",
        "  def evaluate(self, x, y_hat) -> float:\n",
        "    pass    \n",
        "\n",
        "\"\"\"\n",
        "  @class public class ConcreteTemplate extends ABSTemplate\n",
        "  @brief Classe concreta de template\n",
        "\"\"\"\n",
        "class ConcreteTemplate(ABSTemplate):\n",
        "\n",
        "  \"\"\"\n",
        "\t  @brief Metodo que embaralha os pares de entradas e saídas\n",
        "\t  @param X - Entradas da rede\n",
        "    @param Y - Saidas esperadas da rede\n",
        "\t  @return tuple \n",
        "  \"\"\"\n",
        "  def split_and_shuffle(self, X, Y) -> tuple:\n",
        "    tot = len(X)\n",
        "\n",
        "    indexes = np.arange(tot)\n",
        "    np.random.shuffle(indexes)\n",
        "\n",
        "    n = int((1 - 0.1)*tot)\n",
        "\n",
        "    Xt = X[indexes[:n]]\n",
        "    Yt = Y[indexes[:n]]\n",
        "    Xv = X[indexes[n:]]\n",
        "    Yv = Y[indexes[n:]]\n",
        "\n",
        "    return Xt, Yt, Xv, Yv\n",
        "\n",
        "  \"\"\"\n",
        "\t  @brief Metodo para mostrar uma imagem aleatória dentre as samples\n",
        "\t  @param Xv - Entradas de validação da rede\n",
        "    @param Yv - Saidas de validação da rede\n",
        "    @param model - Modelo da rede neural\n",
        "\t  @return void\n",
        "  \"\"\"\n",
        "  def random_sample_model(self,Xv, Yv, model) -> None:\n",
        "    for _ in range(5):\n",
        "\n",
        "      idx = np.random.randint(0, len(Yv))\n",
        "\n",
        "      x = Xv[idx:idx+1,:,:]\n",
        "\n",
        "      y = int(model(x).argmax(dim=1))\n",
        "      y_hat = int(Yv[idx:idx+1,:].argmax(dim=1))\n",
        "\n",
        "      print('y =', y, 'y_hat =', y_hat)\n",
        "\n",
        "      x = x.cpu()\n",
        "      \n",
        "      plt.imshow(x[0,0,:,:], cmap='gray')\n",
        "      plt.show()\n",
        "    \n",
        "    print(\"Exportando resultados obtidos...\")\n",
        "\n",
        "  \"\"\"\n",
        "\t  @brief Metodo que calcula a acurácia da rede para o par de entradas e\n",
        "    saídas desejadas da rede\n",
        "\t  @param x - Entrada desejada\n",
        "    @param y_hat - Saída desejada\n",
        "\t  @return float\n",
        "  \"\"\"\n",
        "  def evaluate(self,x, y_hat) -> float:\n",
        "    y = cnn(x).argmax(dim=1)\n",
        "\n",
        "    y_hat = y_hat.argmax(dim=1)\n",
        "\n",
        "    return 100*float((y == y_hat).sum()) / len(y)"
      ],
      "execution_count": null,
      "outputs": []
    },
    {
      "cell_type": "markdown",
      "metadata": {
        "id": "yOcysBNRU35G"
      },
      "source": [
        "\n",
        "COMPOSITE"
      ]
    },
    {
      "cell_type": "code",
      "metadata": {
        "id": "Upi4h8T5Lo3o"
      },
      "source": [
        "\"\"\"\n",
        "  @class public class convolutional_layers extends nn.Module\n",
        "  @brief Classe responsável pela criação de layers convolucionais\n",
        "\"\"\"\n",
        "class convolutional_layers(nn.Module):\n",
        "  conv1 = nn.Conv2d(1, 5, kernel_size= 6, stride= 2) # 1x64x64 -> 5x30x30\n",
        "  conv2 = nn.Conv2d(5, 8, kernel_size= 3)            # 5x15x15 -> 8x13x13\n",
        "\n",
        "\"\"\"\n",
        "  @class public class polling_layers extends nn.Module\n",
        "  @brief Classe responsável pela criação de layers de pooling\n",
        "\"\"\"\n",
        "class polling_layers(nn.Module):\n",
        "  pool1 = nn.MaxPool2d(2, 2) # 5x30x30 -> 5x15x15\n",
        "  pool2 = nn.MaxPool2d(2, 2) # 8x6x6\n",
        "\n",
        "\"\"\"\n",
        "  @class public class dropout_layers extends nn.Module\n",
        "  @brief Classe responsável pela criação de layers de dropout\n",
        "\"\"\"\n",
        "class dropout_layers(nn.Module):\n",
        "  drp1 = nn.Dropout2d(0.25)  # 1/4 do total dos neuronios serão dropados   \n",
        "\n",
        "\"\"\"\n",
        "  @class public class linear_layers extends nn.Module\n",
        "  @brief Classe responsável pela criação de layers lineares\n",
        "\"\"\"\n",
        "class linear_layers(nn.Module):\n",
        "  lin1 = nn.Linear(288, 10)\n",
        "\n",
        "\"\"\"\n",
        "  @class public class arch\n",
        "  @brief Classe responsável pela gerência da arquitetura de layers da rede\n",
        "\"\"\"\n",
        "class arch():\n",
        "  def __init__(self):\n",
        "    \"\"\"Constructor\"\"\"\n",
        "    self._architecture = list()\n",
        "\n",
        "  \"\"\"\n",
        "\t  @brief Metodo que faz a adição de layers \n",
        "\t  @param layer - lista de camadas da rede\n",
        "\t  @return void\n",
        "  \"\"\"\n",
        "  def add_layers(self, layer) -> None:\n",
        "    self._architecture.append(layer)\n",
        "\n",
        "  \"\"\"\n",
        "\t  @brief Metodo que faz a remoção de layers \n",
        "\t  @param layer - lista de camadas da rede\n",
        "\t  @return void\n",
        "  \"\"\"\n",
        "  def rm_layer(self, layer) -> None:\n",
        "    self._architecture.pop(layer)\n",
        "\n",
        "  \"\"\"\n",
        "\t  @brief Metodo que retorna as layers \n",
        "\t  @return arch\n",
        "  \"\"\"\n",
        "  def get_layers(self) -> 'arch':\n",
        "    return self._architecture\n",
        "      \n",
        "  \"\"\"\n",
        "\t  @brief Metodo que printa as layers \n",
        "\t  @return void\n",
        "  \"\"\"\n",
        "  def print_arch(self) -> None:\n",
        "    for architecture_l in self._architecture:\n",
        "      print(architecture_l)"
      ],
      "execution_count": null,
      "outputs": []
    },
    {
      "cell_type": "markdown",
      "metadata": {
        "id": "DxjOHPzZmGXj"
      },
      "source": [
        "OBSERVER"
      ]
    },
    {
      "cell_type": "code",
      "metadata": {
        "id": "xTW9_fx_UACN"
      },
      "source": [
        "\"\"\"\n",
        "  @class public class Observer extends ABC\n",
        "  @brief Classe abstrata de Observer\n",
        "\"\"\"\n",
        "class Observer(ABC):\n",
        "  \n",
        "  \"\"\"\n",
        "    @brief Metodo abstrato de atualização da rede\n",
        "    @param cnn - Rede neural \n",
        "    @return void\n",
        "  \"\"\"\n",
        "  @abstractmethod\n",
        "  def update(self, cnn) -> None:\n",
        "    pass  \n",
        "\n",
        "\"\"\"\n",
        "  @class public class parametros_rede extends Observer\n",
        "  @brief Classe que apresenta os parâmetros da rede criada\n",
        "\"\"\"\n",
        "class network_parameters(Observer):\n",
        "\n",
        "  \"\"\"\n",
        "    @brief Metodo de atualização da rede que printa os parametros da rede \n",
        "    criada\n",
        "    @param cnn - Rede neural \n",
        "    @return void\n",
        "  \"\"\"\n",
        "  def update(self,cnn) -> None:\n",
        "    print(f\"Parametros da rede criada:\\n {cnn.parameters}\")\n",
        "\n",
        "\"\"\"\n",
        "  @class public class transfer_to_gpu extends Observer\n",
        "  @brief Classe que transfere a rede para a GPU\n",
        "\"\"\"\n",
        "class transfer_to_gpu(Observer):\n",
        "\n",
        "  \"\"\"\n",
        "    @brief Metodo que transfere a rede neural para a GPU, afins de acelerar \n",
        "    o processamnto\n",
        "    @param cnn - Rede neural \n",
        "    @return void\n",
        "  \"\"\"\n",
        "  def update(self, cnn) -> None:\n",
        "    print(\"Transferindo a rede para a GPU...\\n\")\n",
        "    gpu = torch.device(\"cuda:0\")\n",
        "    cnn = cnn.to(gpu)\n",
        "\n",
        "\"\"\"\n",
        "  @class public class Subject extends ABC\n",
        "  @brief Classe abstrata responsável pela criação dos métodos que manipulam os subs\n",
        "\"\"\"\n",
        "class Subject(ABC):\n",
        "\n",
        "  \"\"\"\n",
        "    @brief Metodo abstrato para anexar um observer ao subject.\n",
        "    @param observer - observador \n",
        "    @return void\n",
        "  \"\"\"\n",
        "  @abstractmethod\n",
        "  def attach(self, observer) -> None:\n",
        "    pass\n",
        "\n",
        "  \"\"\"\n",
        "    @brief Metodo abstrato para desprender um observer do subject.\n",
        "    @param observer - observador \n",
        "    @return void\n",
        "  \"\"\"\n",
        "  @abstractmethod\n",
        "  def detach(self, observer) -> None:\n",
        "    pass\n",
        "\n",
        "  \"\"\"\n",
        "    @brief Metodo abstrato para notificar o observer.\n",
        "    @param observer - observador \n",
        "    @return void\n",
        "  \"\"\"\n",
        "  @abstractmethod\n",
        "  def notify(self) -> None:\n",
        "    pass\n",
        "\n",
        "\"\"\"\n",
        "  @class public class ConcreteSubject extends Subject\n",
        "  @brief Classe concreta de subject, possui um estado e notifica os\n",
        "  observadores quando o estado alterar.\n",
        "\"\"\"\n",
        "class ConcreteSubject(Subject):\n",
        "\n",
        "  _state: int = None\n",
        "\n",
        "  \"\"\"\n",
        "  Lista de subs\n",
        "  \"\"\"\n",
        "  _observers: List[Observer] = []\n",
        "\n",
        "  \"\"\"\n",
        "    @brief Metodo que anexa um observer ao subject.\n",
        "    @param observer - observador \n",
        "    @return void\n",
        "  \"\"\"\n",
        "  def attach(self, observer: Observer) -> None:\n",
        "    print(\"Subject: Anexando ao observador...\")\n",
        "\n",
        "    self._observers.append(observer)\n",
        "\n",
        "  \"\"\"\n",
        "    @brief Metodo que desprende um observer do subject.\n",
        "    @param observer - observador \n",
        "    @return void\n",
        "  \"\"\"\n",
        "  def detach(self, observer: Observer) -> None:\n",
        "    print(\"Subject: Removendo do observador...\")\n",
        "    self._observers.remove(observer)\n",
        "\n",
        "  \"\"\"\n",
        "    @brief Metodo que notifica o observer.\n",
        "    @param observer - observador \n",
        "    @return void\n",
        "  \"\"\"\n",
        "  def notify(self,cnn) -> None:\n",
        "    print(\"Subject: Notificando observadores...\")\n",
        "\n",
        "    for observer in self._observers:\n",
        "      observer.update(cnn)"
      ],
      "execution_count": null,
      "outputs": []
    },
    {
      "cell_type": "markdown",
      "metadata": {
        "id": "k52LPBJwr3lx"
      },
      "source": [
        "COMMAND\n"
      ]
    },
    {
      "cell_type": "code",
      "metadata": {
        "id": "8u1T26nxZcMB"
      },
      "source": [
        "\"\"\"\n",
        "  @class public class Perform\n",
        "  @brief Classe que manipula os comandos do pattern\n",
        "\"\"\"\n",
        "class Perform():\n",
        "  def __init__(self):\n",
        "    \"\"\"Constructor\"\"\"\n",
        "    self.performCNN = list()\n",
        "\n",
        "  \"\"\"\n",
        "    @brief Metodo que adiciona o comando.\n",
        "    @param cmd - comando \n",
        "    @return void\n",
        "  \"\"\"\n",
        "  def add(self, cmd) -> None:\n",
        "    self.performCNN.append(cmd)\n",
        "\n",
        "  \"\"\"\n",
        "    @brief Metodo que executa o comando.\n",
        "    @return void\n",
        "  \"\"\"\n",
        "  def executa(self) -> None:\n",
        "    for perform in self.performCNN:\n",
        "      perform.execute()\n",
        "\n",
        "  \"\"\"\n",
        "    @brief Metodo que limpa todos os comandos.\n",
        "    @return void\n",
        "  \"\"\"\n",
        "  def clear(self) -> None:\n",
        "    self.performCNN.clear()\n",
        "  \n",
        "\"\"\"\n",
        "  @class public class Comando\n",
        "  @brief Classe abstrata dos comandos a serem implementados\n",
        "\"\"\"\n",
        "class Comando(ABC):\n",
        "\n",
        "  \"\"\"\n",
        "    @brief Metodo abstrato que define comando\n",
        "    @return void\n",
        "  \"\"\"\n",
        "  @abstractmethod\n",
        "  def execute(self) -> None:\n",
        "      pass\n",
        "\n",
        "\"\"\"\n",
        "  @class public class Eval extends Comando\n",
        "  @brief Classe responsável por avaliar a acurácia da rede\n",
        "\"\"\"\n",
        "class Eval(Comando):\n",
        "  def __init__(self,Xt,Yt):\n",
        "    \"\"\"Constructor\"\"\"\n",
        "    self.Xt = Xt\n",
        "    self.Yt = Yt\n",
        "    template = ConcreteTemplate() \n",
        "\n",
        "  \"\"\"\n",
        "    @brief Metodo para mostrar a taxa da acurácia da rede\n",
        "    @return void\n",
        "  \"\"\"\n",
        "  def execute(self) -> None:\n",
        "    print(\"Acurácia: {:.2f}%\".format(template.evaluate(self.Xt, self.Yt)))       \n",
        "  \n",
        "\"\"\"\n",
        "  @class public class Err extends Comando\n",
        "  @brief Classe responsável por avaliar o erro da rede\n",
        "\"\"\"\n",
        "class Err(Comando):\n",
        "  def __init__(self,y,y_hat):\n",
        "    \"\"\"Constructor\"\"\"\n",
        "    self.y = y\n",
        "    self.y_hat = y_hat\n",
        "\n",
        "  \"\"\"\n",
        "    @brief Metodo para mostrar o erro da rede\n",
        "    @return void\n",
        "  \"\"\" \n",
        "  def execute(self) -> None:\n",
        "    print(\"Erro: {:.2f}%\".format(loss(self.y, self.y_hat))) #entropia cruzada\n",
        "  \n",
        "\"\"\"\n",
        "  @class public class Time extends Comando\n",
        "  @brief Classe responsável por demonstrar o tempo de treinamento da rede\n",
        "\"\"\"\n",
        "class Time(Comando):\n",
        "  def __init__(self,start_time):\n",
        "    self.start_time = start_time\n",
        "\n",
        "  \"\"\"\n",
        "    @brief Metodo para mostrar o tempo que o treinamento demorou para ser \n",
        "    realizado\n",
        "    @return void\n",
        "  \"\"\"\n",
        "  def execute(self) -> None:\n",
        "    print(\"Tempo de treinamento: {:.2f}s\".format(time.time() - self.start_time)) #Tempo de cada época"
      ],
      "execution_count": null,
      "outputs": []
    },
    {
      "cell_type": "markdown",
      "metadata": {
        "id": "TcLCijbY5oLd"
      },
      "source": [
        "MEMENTO\n"
      ]
    },
    {
      "cell_type": "code",
      "metadata": {
        "id": "Eb32ObBG-VFJ"
      },
      "source": [
        "\"\"\"\n",
        "  @class public class Memento extends ABC\n",
        "  @brief Classe abstrata de memento\n",
        "\"\"\"\n",
        "class Memento(ABC):\n",
        "\n",
        "  \"\"\"\n",
        "    @brief Metodo abstrato que retorna a data do memento\n",
        "    @return str\n",
        "  \"\"\"\n",
        "  @abstractmethod\n",
        "  def get_date(self) -> str:\n",
        "    pass\n",
        "\n",
        "\"\"\"\n",
        "  @class public class ConcreteMemento extends Memento\n",
        "  @brief Classe contreta de memento\n",
        "\"\"\"\n",
        "class ConcreteMemento(Memento):\n",
        "  def __init__(self, state):\n",
        "    \"\"\"Constructor\"\"\"\n",
        "    self._state = state\n",
        "    self._date = str(datetime.now())[:19]\n",
        "\n",
        "    \"\"\"\n",
        "      Função do pytorch que salva o memento\n",
        "    \"\"\"\n",
        "    torch.save(self._state.state_dict(),'memento_saved')\n",
        "\n",
        "  \"\"\"\n",
        "    @brief Metodo abstrato que retorna o estado do modelo\n",
        "    @return str\n",
        "  \"\"\" \n",
        "  def get_state(self) -> str:\n",
        "    self.model_teste = ConvNet(arch_nn,subject)\n",
        "    self.model_teste.load_state_dict(torch.load('memento_saved'))\n",
        "    \n",
        "    return self.model_teste\n",
        "\n",
        "  \"\"\"\n",
        "    @brief Metodo abstrato que retorna a data do memento\n",
        "    @return str\n",
        "  \"\"\"\n",
        "  def get_date(self) -> str:\n",
        "    return self._date\n",
        "\n",
        "\"\"\"\n",
        "  @class public class Originator\n",
        "  @brief Mantém algum estado importante que pode mudar com o tempo.\n",
        "\"\"\"\n",
        "class Originator():\n",
        "\n",
        "  _state = None\n",
        "\n",
        "  def __init__(self, state):\n",
        "    \"\"\"Constructor\"\"\"\n",
        "    self._state = state\n",
        "\n",
        "  \"\"\"\n",
        "    @brief Metodo que salva o memento criando um obj concreto do estado\n",
        "    @return Memento\n",
        "  \"\"\"  \n",
        "  def save(self) -> Memento:\n",
        "    return ConcreteMemento(self._state)\n",
        "\n",
        "  \"\"\"\n",
        "    @brief Metodo que restaura o originator de um obj memento\n",
        "    @return Memento\n",
        "  \"\"\"  \n",
        "  def restore(self, memento: Memento) -> None:\n",
        "    self._state = memento.get_state()\n",
        "\n",
        "    return self._state\n",
        "\n",
        "\"\"\"\n",
        "  @class public class Caretaker\n",
        "  @brief O Caretaker não depende do Memento, não tem acesso ao estado do \n",
        "  originator, armazenado dentro do memento. Isto funciona com todas as\n",
        "  lembranças por meio da interface base do Memento\n",
        "\"\"\"\n",
        "class Caretaker():\n",
        "  def __init__(self, originator: Originator):\n",
        "    \"\"\"Constructor\"\"\"\n",
        "    self._mementos = []\n",
        "    self._originator = originator\n",
        "\n",
        "  \"\"\"\n",
        "    @brief Metodo que realiza o backup, salvando uma lista de mementos\n",
        "    @return void\n",
        "  \"\"\"    \n",
        "  def backup(self) -> None:\n",
        "    print(\"\\nSalvando o estado...\")\n",
        "\n",
        "    self._mementos.append(self._originator.save())\n",
        "\n",
        "  \"\"\"\n",
        "    @brief Metodo que realiza o restore do ultimo memento salvo\n",
        "    @return void\n",
        "  \"\"\"    \n",
        "  def restore_memento(self) -> 'memento':\n",
        "    if not len(self._mementos):\n",
        "        return\n",
        "\n",
        "    memento = self._mementos.pop(-1)\n",
        "    print(\"\\nCarregando o estado...\")\n",
        "\n",
        "    return self._originator.restore(memento)\n",
        "\n",
        "  \"\"\"\n",
        "    @brief Metodo que printa os mementos salvos\n",
        "    @return Memento\n",
        "  \"\"\"      \n",
        "  def show_history(self) -> None:\n",
        "    print(\"\\nLista de mementos:\")\n",
        "\n",
        "    for memento in self._mementos:\n",
        "        print(memento.get_name())"
      ],
      "execution_count": null,
      "outputs": []
    },
    {
      "cell_type": "markdown",
      "metadata": {
        "id": "iirGJIApN26y"
      },
      "source": [
        "APPLICATION"
      ]
    },
    {
      "cell_type": "code",
      "metadata": {
        "id": "fbv9kldRmgP5"
      },
      "source": [
        "\"\"\"\n",
        "  @brief Metodo responsável por realizar o treinamento da rede neural\n",
        "  @param Xv - Entradas de treinamento da rede\n",
        "  @param Yv - Saidas de treinamento da rede\n",
        "  @return float\n",
        "\"\"\"  \n",
        "def train(Xt,Yt) -> float:\n",
        "  Errs = []\n",
        "\n",
        "  p = Perform()\n",
        "\n",
        "  \"\"\"\n",
        "    Laço de treinamento para 2001 épocas\n",
        "  \"\"\"\n",
        "  for j in range(2001):\n",
        "    \n",
        "    start_time = time.time()\n",
        "\n",
        "    \"\"\"\n",
        "      O treinamento é realizado em lotes de\n",
        "      tamanho igual a 128 amostras\n",
        "    \"\"\"\n",
        "\n",
        "    for i in range(0,len(Yt),128):\n",
        "\n",
        "      \"\"\"\n",
        "        Separação dos lotes de entradas e saídas desejadas\n",
        "      \"\"\"\n",
        "\n",
        "      x = Xt[i:i+128,:,:,:]\n",
        "      y_hat = Yt[i:i+128,:].argmax(dim=1)\n",
        "\n",
        "      \"\"\"\n",
        "        Zerado o gradiente do otimizador\n",
        "      \"\"\"\n",
        "      opt.zero_grad()\n",
        "\n",
        "      \"\"\"\n",
        "        Calculo da saída da rede neural\n",
        "      \"\"\"\n",
        "      y = cnn(x)\n",
        "\n",
        "      \"\"\"\n",
        "        Calculo do erro\n",
        "      \"\"\"\n",
        "      e = loss(y, y_hat)\n",
        "      Errs.append(e)\n",
        "\n",
        "      \"\"\"\n",
        "        Calculo do gradiente para realizar o backpropagation\n",
        "      \"\"\"  \n",
        "      e.backward()\n",
        "\n",
        "      \"\"\"\n",
        "        Atualização dos parâmetros da rede\n",
        "      \"\"\"\n",
        "      opt.step()\n",
        "\n",
        "    \"\"\"\n",
        "    A cada 200 épocas imprimimos o erro do último lote, acurácia\n",
        "    e tempo do treinamento\n",
        "    \"\"\"\n",
        "    if not (j % 200):\n",
        "      print()   \n",
        "\n",
        "      p.clear()\n",
        "\n",
        "      cmd1 = Eval(Xt, Yt)\n",
        "      cmd2 = Err(y, y_hat)\n",
        "      cmd3 = Time(start_time)\n",
        "\n",
        "      p.add(cmd1)\n",
        "      p.add(cmd2)\n",
        "      p.add(cmd3)\n",
        "\n",
        "      p.executa()\n",
        "\n",
        "  return Errs"
      ],
      "execution_count": null,
      "outputs": []
    },
    {
      "cell_type": "code",
      "metadata": {
        "id": "pgFmVioRpuBo"
      },
      "source": [
        "\"\"\"\n",
        "  @class public class ConvNet extends nn.Module \n",
        "  @brief Classe que implementa a rede neural\n",
        "\"\"\"\n",
        "class ConvNet(nn.Module):\n",
        "  def __init__(self, arch, observadores):\n",
        "    \"\"\"Constructor\"\"\"\n",
        "    super(ConvNet, self).__init__()\n",
        "    self.list_layers = arch.get_layers()\n",
        "\n",
        "    self.conv1 = self.list_layers[0].conv1  # 1x64x64 -> 5x30x30\n",
        "    self.pool1 = self.list_layers[1].pool1  # 5x30x30 -> 5x15x15\n",
        "    self.conv2 = self.list_layers[0].conv2  # 5x15x15 -> 8x13x13\n",
        "    self.drp1  = self.list_layers[2].drp1   # 1/4 do total dos neuronios dropados                \n",
        "    self.pool2 = self.list_layers[1].pool2  # 8x6x6\n",
        "    self.lin1  = self.list_layers[3].lin1   # Conversão da matriz para vetor \n",
        "    \n",
        "    observadores.notify(self)\n",
        "\n",
        "  \"\"\"\n",
        "    @brief Essa função faz o cálculo da saída da rede neural\n",
        "    @param x - Dado de entrada \n",
        "    @return x\n",
        "  \"\"\" \n",
        "  def forward(self, x):\n",
        "    x = self.conv1(x)\n",
        "    x = torch.relu(x)\n",
        "    x = self.pool1(x)\n",
        "    x = self.conv2(x)\n",
        "    x = self.drp1(x)\n",
        "    x = torch.relu(x)\n",
        "    x = self.pool2(x)\n",
        "    x = x.view(-1, 288)\n",
        "    x = self.lin1(x)\n",
        "    return x"
      ],
      "execution_count": null,
      "outputs": []
    },
    {
      "cell_type": "code",
      "metadata": {
        "colab": {
          "base_uri": "https://localhost:8080/"
        },
        "id": "SItn1ZobRx1L",
        "outputId": "23e394d9-5a46-44b4-e0c0-664e141e1890"
      },
      "source": [
        "if __name__ == \"__main__\":\n",
        "  \"\"\"\n",
        "    Leitura dos dados\n",
        "  \"\"\"\n",
        "  #Importação manual do dataset\n",
        "  #X,Y = files.upload()\n",
        "\n",
        "  X = np.load('X.npy')\n",
        "  Y = np.load('Y.npy')\n",
        "\n",
        "  \"\"\"\n",
        "    Definição das categorias de saida da rede\n",
        "  \"\"\"\n",
        "  cats = [9,0,7,6,1,8,4,3,2,5]\n",
        "  Y[:,cats] = Y[:,range(10)]\n",
        "\n",
        "  template = ConcreteTemplate()\n",
        "\n",
        "  \"\"\"\n",
        "    Separação e embaralhamento dos dados\n",
        "  \"\"\"\n",
        "  Xt, Yt, Xv, Yv = template.split_and_shuffle(X, Y)\n",
        "  \n",
        "  Xt = torch.from_numpy(Xt)\n",
        "  Yt = torch.from_numpy(Yt)\n",
        "  Xv = torch.from_numpy(Xv)\n",
        "  Yv = torch.from_numpy(Yv)\n",
        "\n",
        "  \"\"\"\n",
        "    Ajuste de canais da imagem (único canal, imagem monocromática)\n",
        "  \"\"\" \n",
        "  Xt = Xt.unsqueeze(1)\n",
        "  Xv = Xv.unsqueeze(1)\n",
        "      \n",
        "  \"\"\"\n",
        "    Configuração e instância da rede neural\n",
        "  \"\"\"\n",
        "  subject = ConcreteSubject()\n",
        "\n",
        "  observer_a = network_parameters()\n",
        "  observer_b = transfer_to_gpu()\n",
        "\n",
        "  subject.attach(observer_a)\n",
        "  subject.attach(observer_b)\n",
        "  \n",
        "  arch_nn = arch()\n",
        "\n",
        "  arch_nn.add_layers(convolutional_layers())\n",
        "  arch_nn.add_layers(polling_layers())\n",
        "  arch_nn.add_layers(dropout_layers())\n",
        "  arch_nn.add_layers(linear_layers())\n",
        "\n",
        "  cnn = ConvNet(arch_nn,subject)\n",
        "\n",
        "  opt = optim.Adam(cnn.parameters(), lr=0.0001)\n",
        "  loss = nn.CrossEntropyLoss()\n",
        "\n",
        "  \"\"\"\n",
        "    Transferência dos dados para a GPU\n",
        "  \"\"\"\n",
        "  print(\"Transferindo o dados de treino e validação para a GPU...\")\n",
        "  gpu = torch.device(\"cuda:0\")\n",
        "\n",
        "  Xt = Xt.to(gpu, dtype=torch.float)\n",
        "  Yt = Yt.to(gpu, dtype=torch.long)\n",
        "  Xv = Xv.to(gpu, dtype=torch.float)\n",
        "  Yv = Yv.to(gpu, dtype=torch.long)"
      ],
      "execution_count": null,
      "outputs": [
        {
          "output_type": "stream",
          "text": [
            "Subject: Anexando ao observador...\n",
            "Subject: Anexando ao observador...\n",
            "Subject: Notificando observadores...\n",
            "Parametros da rede criada:\n",
            " <bound method Module.parameters of ConvNet(\n",
            "  (conv1): Conv2d(1, 5, kernel_size=(6, 6), stride=(2, 2))\n",
            "  (pool1): MaxPool2d(kernel_size=2, stride=2, padding=0, dilation=1, ceil_mode=False)\n",
            "  (conv2): Conv2d(5, 8, kernel_size=(3, 3), stride=(1, 1))\n",
            "  (drp1): Dropout2d(p=0.25, inplace=False)\n",
            "  (pool2): MaxPool2d(kernel_size=2, stride=2, padding=0, dilation=1, ceil_mode=False)\n",
            "  (lin1): Linear(in_features=288, out_features=10, bias=True)\n",
            ")>\n",
            "Transferindo a rede para a GPU...\n",
            "\n",
            "Transferindo o dados de treino e validação para a GPU...\n"
          ],
          "name": "stdout"
        }
      ]
    },
    {
      "cell_type": "code",
      "metadata": {
        "colab": {
          "base_uri": "https://localhost:8080/"
        },
        "id": "1SycD9Fhb2Hz",
        "outputId": "56e8d5d7-f4a1-489c-868c-a86f37e4acb7"
      },
      "source": [
        "\"\"\"\n",
        "  Treinamento da rede\n",
        "\"\"\"\n",
        "inc = input(\"Iniciar o treinamento da rede?[y/n]\\n\")\n",
        "if inc == 'y' or inc == 'Y' or inc == '1':\n",
        "  Errs = train(Xt,Yt)\n",
        "else:\n",
        "  print(\"Abortando o processo de treinamento...\")\n",
        "  exit()"
      ],
      "execution_count": null,
      "outputs": [
        {
          "output_type": "stream",
          "text": [
            "Iniciar o treinamento da rede?[y/n]\n",
            "y\n",
            "\n",
            "Acurácia: 12.13%\n",
            "Erro: 2.30%\n",
            "Tempo de treinamento: 0.27s\n",
            "\n",
            "Acurácia: 82.16%\n",
            "Erro: 0.63%\n",
            "Tempo de treinamento: 0.03s\n",
            "\n",
            "Acurácia: 86.68%\n",
            "Erro: 0.35%\n",
            "Tempo de treinamento: 0.03s\n",
            "\n",
            "Acurácia: 89.76%\n",
            "Erro: 0.32%\n",
            "Tempo de treinamento: 0.04s\n",
            "\n",
            "Acurácia: 91.75%\n",
            "Erro: 0.28%\n",
            "Tempo de treinamento: 0.04s\n",
            "\n",
            "Acurácia: 92.02%\n",
            "Erro: 0.19%\n",
            "Tempo de treinamento: 0.04s\n",
            "\n",
            "Acurácia: 92.67%\n",
            "Erro: 0.16%\n",
            "Tempo de treinamento: 0.04s\n",
            "\n",
            "Acurácia: 93.37%\n",
            "Erro: 0.19%\n",
            "Tempo de treinamento: 0.04s\n",
            "\n",
            "Acurácia: 93.69%\n",
            "Erro: 0.14%\n",
            "Tempo de treinamento: 0.03s\n",
            "\n",
            "Acurácia: 94.29%\n",
            "Erro: 0.18%\n",
            "Tempo de treinamento: 0.03s\n",
            "\n",
            "Acurácia: 94.12%\n",
            "Erro: 0.06%\n",
            "Tempo de treinamento: 0.04s\n"
          ],
          "name": "stdout"
        }
      ]
    },
    {
      "cell_type": "code",
      "metadata": {
        "colab": {
          "base_uri": "https://localhost:8080/"
        },
        "id": "dMcMWokGrCde",
        "outputId": "4636541f-41cb-4e14-d212-9a4b8ca227f7"
      },
      "source": [
        "cnn.eval() #deslitamgamento do dropout\n",
        "\n",
        "\"\"\" \n",
        "  Bkp da rede utilizando memento\n",
        "\"\"\" \n",
        "originator = Originator(cnn)\n",
        "caretaker = Caretaker(originator)\n",
        "caretaker.backup()\n",
        "\n",
        "\"\"\" \n",
        "  Restore da rede utilizando memento\n",
        "\"\"\" \n",
        "new_model = caretaker.restore_memento()"
      ],
      "execution_count": null,
      "outputs": [
        {
          "output_type": "stream",
          "text": [
            "\n",
            "Salvando o estado...\n",
            "\n",
            "Carregando o estado...\n",
            "Subject: Notificando observadores...\n",
            "Parametros da rede criada:\n",
            " <bound method Module.parameters of ConvNet(\n",
            "  (conv1): Conv2d(1, 5, kernel_size=(6, 6), stride=(2, 2))\n",
            "  (pool1): MaxPool2d(kernel_size=2, stride=2, padding=0, dilation=1, ceil_mode=False)\n",
            "  (conv2): Conv2d(5, 8, kernel_size=(3, 3), stride=(1, 1))\n",
            "  (drp1): Dropout2d(p=0.25, inplace=False)\n",
            "  (pool2): MaxPool2d(kernel_size=2, stride=2, padding=0, dilation=1, ceil_mode=False)\n",
            "  (lin1): Linear(in_features=288, out_features=10, bias=True)\n",
            ")>\n",
            "Transferindo a rede para a GPU...\n",
            "\n"
          ],
          "name": "stdout"
        }
      ]
    },
    {
      "cell_type": "code",
      "metadata": {
        "colab": {
          "base_uri": "https://localhost:8080/",
          "height": 265
        },
        "id": "f7Cjpoe2rFwJ",
        "outputId": "e96a4a77-8b28-412d-bd96-6e9616e41ef3"
      },
      "source": [
        "\"\"\"\n",
        "  Gráfico da taxa de erros da rede \n",
        "  (\"curva de aprendizagem\")\n",
        "\"\"\"\n",
        "plt.plot(Errs)\n",
        "plt.show()"
      ],
      "execution_count": null,
      "outputs": [
        {
          "output_type": "display_data",
          "data": {
            "image/png": "[encoded data removed]",
            "text/plain": [
              "<Figure size 432x288 with 1 Axes>"
            ]
          },
          "metadata": {
            "tags": [],
            "needs_background": "light"
          }
        }
      ]
    },
    {
      "cell_type": "code",
      "metadata": {
        "colab": {
          "base_uri": "https://localhost:8080/",
          "height": 1000
        },
        "id": "Q5OGlePIrJ_6",
        "outputId": "2aab6a52-56b7-4596-eb2a-7cc14f5ef08b"
      },
      "source": [
        "\"\"\"\n",
        "  Validação da rede, utilizando dados \n",
        "  aleatórios de validação\n",
        "\"\"\"\n",
        "template.random_sample_model(Xv, Yv, new_model)"
      ],
      "execution_count": null,
      "outputs": [
        {
          "output_type": "stream",
          "text": [
            "y = 4 y_hat = 4\n"
          ],
          "name": "stdout"
        },
        {
          "output_type": "display_data",
          "data": {
            "image/png": "[encoded data removed]",
            "text/plain": [
              "<Figure size 432x288 with 1 Axes>"
            ]
          },
          "metadata": {
            "tags": [],
            "needs_background": "light"
          }
        },
        {
          "output_type": "stream",
          "text": [
            "y = 6 y_hat = 6\n"
          ],
          "name": "stdout"
        },
        {
          "output_type": "display_data",
          "data": {
            "image/png": "[encoded data removed]",
            "text/plain": [
              "<Figure size 432x288 with 1 Axes>"
            ]
          },
          "metadata": {
            "tags": [],
            "needs_background": "light"
          }
        },
        {
          "output_type": "stream",
          "text": [
            "y = 9 y_hat = 9\n"
          ],
          "name": "stdout"
        },
        {
          "output_type": "display_data",
          "data": {
            "image/png": "[encoded data removed]",
            "text/plain": [
              "<Figure size 432x288 with 1 Axes>"
            ]
          },
          "metadata": {
            "tags": [],
            "needs_background": "light"
          }
        },
        {
          "output_type": "stream",
          "text": [
            "y = 8 y_hat = 9\n"
          ],
          "name": "stdout"
        },
        {
          "output_type": "display_data",
          "data": {
            "image/png": "[encoded data removed]",
            "text/plain": [
              "<Figure size 432x288 with 1 Axes>"
            ]
          },
          "metadata": {
            "tags": [],
            "needs_background": "light"
          }
        },
        {
          "output_type": "stream",
          "text": [
            "y = 8 y_hat = 9\n"
          ],
          "name": "stdout"
        },
        {
          "output_type": "display_data",
          "data": {
            "image/png": "[encoded data removed]",
            "text/plain": [
              "<Figure size 432x288 with 1 Axes>"
            ]
          },
          "metadata": {
            "tags": [],
            "needs_background": "light"
          }
        },
        {
          "output_type": "stream",
          "text": [
            "Exportando resultados obtidos...\n"
          ],
          "name": "stdout"
        }
      ]
    }
  ]
}