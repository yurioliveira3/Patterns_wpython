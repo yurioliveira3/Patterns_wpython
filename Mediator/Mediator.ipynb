{
  "nbformat": 4,
  "nbformat_minor": 0,
  "metadata": {
    "colab": {
      "name": "Mediator.ipynb",
      "provenance": [],
      "collapsed_sections": []
    },
    "kernelspec": {
      "name": "python3",
      "display_name": "Python 3"
    }
  },
  "cells": [
    {
      "cell_type": "markdown",
      "metadata": {
        "id": "c1D2PpsXvvCM"
      },
      "source": [
        "##1.Construa uma classe Mediator que irá intermediar a comunicação entre dois compradores (um comprador brasileiro e um francês), um vendedor americano, e um módulo conversor de moedas.\n",
        "\n",
        "O Mediator deve possuir:\n",
        "\n",
        "✓ referências para os dois compradores, o vendedor, e o conversor.\n",
        "\n",
        "✓ métodos para que esses objetos possam ser registrados.\n",
        "\n",
        "✓ método proporOferta, que receba a quantia ofertada e uma unidade\n",
        "monetária como parâmetros. \n",
        "\n",
        "✓ método que converte essa quantia para dolar via comunicação com um objeto conversorDolar e então pergunta ao comprador se ele aceita a oferta. A resposta (sim ou não) é retornada pelo método.\n"
      ]
    },
    {
      "cell_type": "code",
      "metadata": {
        "id": "UYjVLipexUR2"
      },
      "source": [
        "#Import do modulo que prove a estrutura de definição de classes abastratas no py\n",
        "from abc import ABC,abstractmethod\n",
        "from typing import Optional"
      ],
      "execution_count": null,
      "outputs": []
    },
    {
      "cell_type": "code",
      "metadata": {
        "id": "95k21_BFxXuS"
      },
      "source": [
        "#Classe abstrata do mediator\n",
        "class Mediador(ABC):\n",
        "\n",
        "  @abstractmethod\n",
        "  def registrarVendedor(self, vendedor):\n",
        "    pass \n",
        "    \n",
        "  @abstractmethod\n",
        "  def registrarConversor(self, conversorDolar):\n",
        "    pass \n",
        "\n",
        "  @abstractmethod\n",
        "  def registrarComprador1(self, comprador1):\n",
        "    pass \n",
        "\n",
        "  def registrarComprador2(self, comprador2):\n",
        "    pass \n",
        "    \n",
        "  @abstractmethod\n",
        "  def proporOferta(self, oferta, moeda):\n",
        "    pass \n",
        "\n",
        "  @abstractmethod\n",
        "  def converteProposta(self) -> Optional[bool]:\n",
        "    pass"
      ],
      "execution_count": null,
      "outputs": []
    },
    {
      "cell_type": "code",
      "metadata": {
        "id": "3piyDbr0a2BX"
      },
      "source": [
        "#Definição do mediador do leilão\n",
        "class Md(Mediador):\n",
        "\n",
        "  def registrarVendedor(self, vendedor):\n",
        "    self.vendedor = vendedor \n",
        "      \n",
        "  def registrarConversor(self, conversorDolar):\n",
        "    self.conversorDolar = conversorDolar \n",
        "\n",
        "  def registrarComprador1(self, comprador1):\n",
        "    self.comprador1 = comprador1\n",
        "\n",
        "  def registrarComprador2(self, comprador2):\n",
        "    self.comprador2 = comprador2\n",
        "\n",
        "  def proporOferta(self, oferta, moeda):\n",
        "    self.oferta = oferta\n",
        "    self.moeda = moeda\n",
        "\n",
        "  def converteProposta(self):\n",
        "    self.vconv = self.conversorDolar.conv_moeda(self.oferta , self.moeda)\n",
        "\n",
        "    print(\"Oferta atual: ${:.2f}\".format(self.vconv))\n",
        "        \n",
        "    if self.vendedor.verificarOferta(self.vconv) == True:\n",
        "      return True        \n",
        "    else:\n",
        "      return False         "
      ],
      "execution_count": null,
      "outputs": []
    },
    {
      "cell_type": "code",
      "metadata": {
        "id": "pxvUhO8gs3kT"
      },
      "source": [
        "#Classe comprador\n",
        "class comprador:\n",
        "  def __init__(self, mediator, nome):\n",
        "    self.nome = nome\n",
        "    self.mediator = mediator\n",
        "\n",
        "  def __str__(self):\n",
        "     return self.nome"
      ],
      "execution_count": null,
      "outputs": []
    },
    {
      "cell_type": "code",
      "metadata": {
        "id": "7_zPUnlJXtnz"
      },
      "source": [
        "#Comprador BR\n",
        "class compradorBrasil(comprador):\n",
        "  def __init__(self, mediator, nome):\n",
        "    super().__init__(mediator, nome)\n",
        "    self.mediator.registrarComprador1(self)"
      ],
      "execution_count": null,
      "outputs": []
    },
    {
      "cell_type": "code",
      "metadata": {
        "id": "uMDTuIllSRFG"
      },
      "source": [
        "#Comprador FR\n",
        "class compradorFranca(comprador):\n",
        "  def __init__(self, mediator, nome):\n",
        "    super().__init__(mediator, nome)\n",
        "    self.mediator.registrarComprador2(self)"
      ],
      "execution_count": null,
      "outputs": []
    },
    {
      "cell_type": "code",
      "metadata": {
        "id": "Ljx0M6p3Jscg"
      },
      "source": [
        "#Classe comprador\n",
        "class vendedor:\n",
        "  def __init__(self, mediator, nome, valorItem):\n",
        "    self.nome = nome \n",
        "    self.mediator = mediator\n",
        "    self.mediator.registrarVendedor(self)\n",
        "    self.valorItem = valorItem    \n",
        "\n",
        "  def verificarOferta(self, vprop):\n",
        "    self.vprop = vprop\n",
        "    if self.vprop >= self.valorItem:\n",
        "      return True\n",
        "    else:\n",
        "      return False"
      ],
      "execution_count": null,
      "outputs": []
    },
    {
      "cell_type": "code",
      "metadata": {
        "id": "4Avmex7iZdaI"
      },
      "source": [
        "#Vendedor EUA\n",
        "class vendedorEUA(vendedor):\n",
        "  def __init__(self, mediator, nome, valorItem):\n",
        "    super().__init__(mediator, nome, valorItem)\n",
        "    self.mediator.registrarVendedor(self)"
      ],
      "execution_count": null,
      "outputs": []
    },
    {
      "cell_type": "code",
      "metadata": {
        "id": "vW3z4cyYatKW"
      },
      "source": [
        "#Classe responsável por realizar a conversão das moedas\n",
        "class conversorDolar:\n",
        "  \n",
        "  def __init__(self, mediator):\n",
        "    self.mediator = mediator\n",
        "    self.mediator.registrarConversor(self)\n",
        "\n",
        "  def conv_moeda(self, valor, moeda):\n",
        "    self.valor = valor\n",
        "    self.moeda = moeda\n",
        "\n",
        "    if self.moeda == 'R': #REAL\n",
        "      return (self.valor * 0.20)\n",
        "    elif self.moeda == 'E': #EURO\n",
        "      return (self.valor * 1.20)\n",
        "    else:  \n",
        "      return self.valor"
      ],
      "execution_count": null,
      "outputs": []
    },
    {
      "cell_type": "markdown",
      "metadata": {
        "id": "QOzul43bXvt3"
      },
      "source": [
        "\n",
        "##Escreva uma classe “Aplicativo” para demonstrar o seu padrão Mediator, por meio das seguintes operações:\n",
        "\n",
        "✓ Crie um objeto compradorBrasil e um compradorFranca.\n",
        "\n",
        "✓ Crie um objeto vendedorEUA que tenha um item de venda no valor de 10\n",
        "dólares.\n",
        "\n",
        "✓ Crie um objeto conversorDolar.\n",
        "\n",
        "Obs: todos esses objetos devem registrar-se com o Mediator na chamada de seus construtores.\n",
        "\n",
        "✓ O comprador brasileiro começa com uma oferta de 12 reais e vai aumentando esse valor em 3 reais até que essa seja aceita.\n",
        "\n",
        "✓ O comprador francês começa com uma oferta de 3 euros e vai aumentando esse valor em 1,5 euros até que essa seja aceita."
      ]
    },
    {
      "cell_type": "code",
      "metadata": {
        "id": "YoPxnRrrsBz9",
        "colab": {
          "base_uri": "https://localhost:8080/"
        },
        "outputId": "736162f5-2bcb-461f-ef96-e218c4aa409c"
      },
      "source": [
        "#APP \n",
        "class Aplicativo:\n",
        "  md = Md()\n",
        "  \n",
        "  cBR = compradorBrasil(md, '[BR] - João')\n",
        "  cFR = compradorFranca(md, '[FR] - Juliette')\n",
        "  vEUA = vendedorEUA(md,'[EUA] - Johny', 10)\n",
        "  conv = conversorDolar(md)\n",
        "\n",
        "  Ofertareal = 12.00\n",
        "  Ofertaeuro = 3.00\n",
        "  \n",
        "  print(\"-- PRIMEIRA RODADA DE PROPOSTAS --\")\n",
        "  while True: \n",
        "    \n",
        "    cBR.mediator.proporOferta(Ofertareal,'R')\n",
        "    if md.converteProposta() == True: \n",
        "      print(f\"\\n{cBR} - [ARREMATOU O ITEM POR R${Ofertareal}]\")\n",
        "      break\n",
        "\n",
        "    cFR.mediator.proporOferta(Ofertaeuro,'E')\n",
        "    if md.converteProposta() == True:\n",
        "      print(f\"\\n{cFR} - [ARREMATOU O ITEM POR {Ofertaeuro}€]\")\n",
        "      break \n",
        "\n",
        "    print(\"\\n-- NOVA RODADA DE PROPOSTAS --\")\n",
        "    Ofertareal +=3\n",
        "    Ofertaeuro +=1.5  \n",
        "\n",
        "#MAIN\n",
        "if __name__ == \"__main__\":\n",
        "  app = Aplicativo()"
      ],
      "execution_count": null,
      "outputs": [
        {
          "output_type": "stream",
          "text": [
            "-- PRIMEIRA RODADA DE PROPOSTAS --\n",
            "Oferta atual: $2.40\n",
            "Oferta atual: $3.60\n",
            "\n",
            "-- NOVA RODADA DE PROPOSTAS --\n",
            "Oferta atual: $3.00\n",
            "Oferta atual: $5.40\n",
            "\n",
            "-- NOVA RODADA DE PROPOSTAS --\n",
            "Oferta atual: $3.60\n",
            "Oferta atual: $7.20\n",
            "\n",
            "-- NOVA RODADA DE PROPOSTAS --\n",
            "Oferta atual: $4.20\n",
            "Oferta atual: $9.00\n",
            "\n",
            "-- NOVA RODADA DE PROPOSTAS --\n",
            "Oferta atual: $4.80\n",
            "Oferta atual: $10.80\n",
            "\n",
            "[FR] - Juliette - [ARREMATOU O ITEM POR 9.0€]\n"
          ],
          "name": "stdout"
        }
      ]
    }
  ]
}